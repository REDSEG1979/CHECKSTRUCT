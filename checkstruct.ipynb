{
 "cells": [
  {
   "cell_type": "code",
   "execution_count": 8,
   "id": "75aa6e0c",
   "metadata": {},
   "outputs": [
    {
     "name": "stdout",
     "output_type": "stream",
     "text": [
      "36\n"
     ]
    }
   ],
   "source": [
    "L = [2, 3, 6]\n",
    "m = 1\n",
    "for i in L:\n",
    "    m = m*i\n",
    "print(m)"
   ]
  },
  {
   "cell_type": "code",
   "execution_count": 13,
   "id": "1e24c5b6",
   "metadata": {},
   "outputs": [
    {
     "name": "stdout",
     "output_type": "stream",
     "text": [
      "[(2, 1), (1, 2), (2, 3), (4, 4), (2, 5)]\n"
     ]
    }
   ],
   "source": [
    "L = [(2, 5), (1, 2), (4, 4), (2, 3), (2, 1)]\n",
    "L = sorted(L, key = lambda x: x[-1])\n",
    "print(L)"
   ]
  },
  {
   "cell_type": "code",
   "execution_count": null,
   "id": "b8ac693f",
   "metadata": {},
   "outputs": [],
   "source": [
    "d1 = {'a': 100, 'b': 200, 'c':300}\n",
    "d2 = {'a': 300, 'b': 200, 'd':400}\n",
    "d = {}\n",
    "for k in d1 | d2:\n",
    "    d[k] = d1.get(k,0)+d2.get(k,0)"
   ]
  },
  {
   "cell_type": "code",
   "execution_count": null,
   "id": "e85c6388",
   "metadata": {},
   "outputs": [],
   "source": [
    "i = 0\n",
    "while i < 8:\n",
    "    i = i+1\n",
    "    d = {}\n",
    "    d[i] = i*i\n",
    "    print(d)"
   ]
  },
  {
   "cell_type": "code",
   "execution_count": null,
   "id": "985dace1",
   "metadata": {},
   "outputs": [],
   "source": [
    "list= [('item1', '12.20'), ('item2', '15.10'), ('item3', '24.5')]\n",
    "result = sorted(list, reverse = True)\n",
    "result = tuple(result)\n",
    "print(result)"
   ]
  },
  {
   "cell_type": "code",
   "execution_count": null,
   "id": "7702b5df",
   "metadata": {},
   "outputs": [],
   "source": [
    "setnumb = {0, 1, 2, 3, 4}\n",
    "for item in setnumb:\n",
    "    print(item)\n",
    "setnumb.add(5)\n",
    "setnumb.remove(4)\n",
    "print(setnumb)"
   ]
  }
 ],
 "metadata": {
  "kernelspec": {
   "display_name": "Python 3 (ipykernel)",
   "language": "python",
   "name": "python3"
  },
  "language_info": {
   "codemirror_mode": {
    "name": "ipython",
    "version": 3
   },
   "file_extension": ".py",
   "mimetype": "text/x-python",
   "name": "python",
   "nbconvert_exporter": "python",
   "pygments_lexer": "ipython3",
   "version": "3.10.9"
  }
 },
 "nbformat": 4,
 "nbformat_minor": 5
}
